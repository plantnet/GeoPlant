{
 "metadata": {
  "kernelspec": {
   "language": "python",
   "display_name": "Python 3",
   "name": "python3"
  },
  "language_info": {
   "name": "python",
   "version": "3.10.13",
   "mimetype": "text/x-python",
   "codemirror_mode": {
    "name": "ipython",
    "version": 3
   },
   "pygments_lexer": "ipython3",
   "nbconvert_exporter": "python",
   "file_extension": ".py"
  },
  "kaggle": {
   "accelerator": "none",
   "dataSources": [
    {
     "sourceId": 64733,
     "databundleVersionId": 8171035,
     "sourceType": "competition"
    }
   ],
   "dockerImageVersionId": 30684,
   "isInternetEnabled": true,
   "language": "python",
   "sourceType": "notebook",
   "isGpuEnabled": false
  }
 },
 "nbformat_minor": 4,
 "nbformat": 4,
 "cells": [
  {
   "cell_type": "markdown",
   "source": [
    "# Different Naive Approaches to get up to 0.20567.\n",
    "In this notebook we provide 4 naive approaches to achieve relatively high score. All the approaches are based on the provided observation metadata and does not need any training."
   ],
   "metadata": {}
  },
  {
   "cell_type": "markdown",
   "source": [
    "## Loading Metadata\n",
    "First we load all the metadata and import some very basic libraries."
   ],
   "metadata": {}
  },
  {
   "cell_type": "code",
   "source": [
    "import pandas as pd\n",
    "from tqdm import tqdm\n",
    "\n",
    "tqdm.pandas()\n",
    "\n",
    "# Load train and test metadata\n",
    "po_train = pd.read_csv(\"../metadata/PO_metadata_train.csv\", dtype={\"speciesId\":int})\n",
    "pa_train = pd.read_csv(\"../metadata/PA_metadata_train.csv\", dtype={\"speciesId\":int})\n",
    "test = pd.read_csv(\"../metadata/PA_metadata_test.csv\",  dtype={\"speciesId\":int})"
   ],
   "metadata": {
    "execution": {
     "iopub.status.busy": "2024-04-16T09:25:33.818231Z",
     "iopub.execute_input": "2024-04-16T09:25:33.818690Z",
     "iopub.status.idle": "2024-04-16T09:26:02.325432Z",
     "shell.execute_reply.started": "2024-04-16T09:25:33.818645Z",
     "shell.execute_reply": "2024-04-16T09:26:02.324226Z"
    },
    "trusted": true,
    "ExecuteTime": {
     "end_time": "2024-06-12T12:53:03.758369Z",
     "start_time": "2024-06-12T12:52:56.971209Z"
    }
   },
   "execution_count": 2,
   "outputs": []
  },
  {
   "cell_type": "markdown",
   "source": [
    "# 🏃💨 Presence Absence Based Approaches"
   ],
   "metadata": {
    "collapsed": false
   }
  },
  {
   "cell_type": "markdown",
   "source": [
    "# Top-k experiment within all Presence-Absence data"
   ],
   "metadata": {}
  },
  {
   "cell_type": "code",
   "source": [
    "test['predictions'] = ' '.join([str(species) for species in pa_train.speciesId.value_counts().nlargest(5).index])\n",
    "\n",
    "submission = test[['surveyId','predictions']]\n",
    "submission.to_csv('../submissions/submission-top5-pa.csv', index=False)"
   ],
   "metadata": {
    "execution": {
     "iopub.status.busy": "2024-04-16T10:37:56.818779Z",
     "iopub.execute_input": "2024-04-16T10:37:56.819649Z",
     "iopub.status.idle": "2024-04-16T11:00:54.041393Z",
     "shell.execute_reply.started": "2024-04-16T10:37:56.819599Z",
     "shell.execute_reply": "2024-04-16T11:00:54.039999Z"
    },
    "trusted": true,
    "ExecuteTime": {
     "end_time": "2024-06-12T13:15:10.467017Z",
     "start_time": "2024-06-12T13:15:10.454188Z"
    }
   },
   "execution_count": 11,
   "outputs": []
  },
  {
   "cell_type": "code",
   "outputs": [],
   "source": [
    "test['predictions'] = ' '.join([str(species) for species in pa_train.speciesId.value_counts().nlargest(10).index])\n",
    "\n",
    "submission = test[['surveyId','predictions']]\n",
    "submission.to_csv('../submissions/submission-top10-pa.csv', index=False)"
   ],
   "metadata": {
    "collapsed": false,
    "ExecuteTime": {
     "end_time": "2024-06-12T13:15:11.807145Z",
     "start_time": "2024-06-12T13:15:11.791527Z"
    }
   },
   "execution_count": 12
  },
  {
   "cell_type": "code",
   "outputs": [],
   "source": [
    "test['predictions'] = ' '.join([str(species) for species in pa_train.speciesId.value_counts().nlargest(15).index])\n",
    "\n",
    "submission = test[['surveyId','predictions']]\n",
    "submission.to_csv('../submissions/submission-top15-pa.csv', index=False)"
   ],
   "metadata": {
    "collapsed": false,
    "ExecuteTime": {
     "end_time": "2024-06-12T13:15:12.363354Z",
     "start_time": "2024-06-12T13:15:12.352454Z"
    }
   },
   "execution_count": 13
  },
  {
   "cell_type": "code",
   "outputs": [],
   "source": [
    "test['predictions'] = ' '.join([str(species) for species in pa_train.speciesId.value_counts().nlargest(20).index])\n",
    "\n",
    "submission = test[['surveyId','predictions']]\n",
    "submission.to_csv('../submissions/submission-top20-pa.csv', index=False)"
   ],
   "metadata": {
    "collapsed": false,
    "ExecuteTime": {
     "end_time": "2024-06-12T13:15:12.950877Z",
     "start_time": "2024-06-12T13:15:12.939225Z"
    }
   },
   "execution_count": 14
  },
  {
   "cell_type": "code",
   "outputs": [],
   "source": [
    "test['predictions'] = ' '.join([str(species) for species in pa_train.speciesId.value_counts().nlargest(25).index])\n",
    "\n",
    "submission = test[['surveyId','predictions']]\n",
    "submission.to_csv('../submissions/submission-top25-pa.csv', index=False)"
   ],
   "metadata": {
    "collapsed": false
   }
  },
  {
   "cell_type": "code",
   "outputs": [],
   "source": [
    "test['predictions'] = ' '.join([str(species) for species in pa_train.speciesId.value_counts().nlargest(30).index])\n",
    "\n",
    "submission = test[['surveyId','predictions']]\n",
    "submission.to_csv('../submissions/submission-top30-pa.csv', index=False)"
   ],
   "metadata": {
    "collapsed": false,
    "ExecuteTime": {
     "end_time": "2024-06-12T13:28:48.639025Z",
     "start_time": "2024-06-12T13:28:48.615809Z"
    }
   },
   "execution_count": 21
  },
  {
   "cell_type": "code",
   "outputs": [],
   "source": [
    "test['predictions'] = ' '.join([str(species) for species in pa_train.speciesId.value_counts().nlargest(35).index])\n",
    "\n",
    "submission = test[['surveyId','predictions']]\n",
    "submission.to_csv('../submissions/submission-top35-pa.csv', index=False)"
   ],
   "metadata": {
    "collapsed": false,
    "ExecuteTime": {
     "end_time": "2024-06-12T13:28:49.444716Z",
     "start_time": "2024-06-12T13:28:49.422850Z"
    }
   },
   "execution_count": 22
  },
  {
   "cell_type": "code",
   "outputs": [],
   "source": [
    "test['predictions'] = ' '.join([str(species) for species in pa_train.speciesId.value_counts().nlargest(40).index])\n",
    "\n",
    "submission = test[['surveyId','predictions']]\n",
    "submission.to_csv('../submissions/submission-top40-pa.csv', index=False)"
   ],
   "metadata": {
    "collapsed": false,
    "ExecuteTime": {
     "end_time": "2024-06-12T13:34:29.351092Z",
     "start_time": "2024-06-12T13:34:29.327683Z"
    }
   },
   "execution_count": 28
  },
  {
   "cell_type": "markdown",
   "source": [
    "# Top-k experiment with district"
   ],
   "metadata": {
    "collapsed": false
   }
  },
  {
   "cell_type": "code",
   "outputs": [],
   "source": [
    "def get_topk_pa_species(district, k=25):\n",
    "    query = list(pa_train.loc[(pa_train.district == district), \"speciesId\"].value_counts().nlargest(k).index)\n",
    "    query.sort()\n",
    "    return \" \".join([str(c) for c in query]) if len(query) > 0 else \"0\""
   ],
   "metadata": {
    "collapsed": false,
    "ExecuteTime": {
     "end_time": "2024-06-12T13:34:38.397558Z",
     "start_time": "2024-06-12T13:34:38.389148Z"
    }
   },
   "execution_count": 30
  },
  {
   "cell_type": "code",
   "outputs": [
    {
     "data": {
      "text/plain": "Pandas Apply:   0%|          | 0/4716 [00:00<?, ?it/s]",
      "application/vnd.jupyter.widget-view+json": {
       "version_major": 2,
       "version_minor": 0,
       "model_id": "dcf48fc6e53346f3a7b483df5e788780"
      }
     },
     "metadata": {},
     "output_type": "display_data"
    }
   ],
   "source": [
    "test[\"predictions\"] = test.swifter.apply(lambda test_observation: get_topk_pa_species(test_observation[\"district\"], k=5), axis=1)\n",
    "submission = test[[\"surveyId\",\"predictions\"]]\n",
    "\n",
    "submission.to_csv(\"../submissions/submission-pa-district-top5.csv\", index=False)"
   ],
   "metadata": {
    "execution": {
     "iopub.status.busy": "2024-04-16T11:00:54.043672Z",
     "iopub.execute_input": "2024-04-16T11:00:54.044079Z"
    },
    "trusted": true,
    "ExecuteTime": {
     "end_time": "2024-06-12T12:58:32.164788Z",
     "start_time": "2024-06-12T12:54:47.719596Z"
    }
   },
   "execution_count": 6
  },
  {
   "cell_type": "code",
   "outputs": [
    {
     "data": {
      "text/plain": "Pandas Apply:   0%|          | 0/4716 [00:00<?, ?it/s]",
      "application/vnd.jupyter.widget-view+json": {
       "version_major": 2,
       "version_minor": 0,
       "model_id": "0e854e91fc2a4ea992766dce65f73c4c"
      }
     },
     "metadata": {},
     "output_type": "display_data"
    }
   ],
   "source": [
    "test[\"predictions\"] = test.swifter.apply(lambda test_observation: get_topk_pa_species(test_observation[\"district\"], k=10), axis=1)\n",
    "submission = test[[\"surveyId\",\"predictions\"]]\n",
    "\n",
    "submission.to_csv(\"../submissions/submission-pa-district-top10.csv\", index=False)"
   ],
   "metadata": {
    "collapsed": false,
    "ExecuteTime": {
     "end_time": "2024-06-12T13:02:17.967064Z",
     "start_time": "2024-06-12T12:58:32.145715Z"
    }
   },
   "execution_count": 7
  },
  {
   "cell_type": "code",
   "outputs": [
    {
     "data": {
      "text/plain": "Pandas Apply:   0%|          | 0/4716 [00:00<?, ?it/s]",
      "application/vnd.jupyter.widget-view+json": {
       "version_major": 2,
       "version_minor": 0,
       "model_id": "7c1a3899cf3d40b19efd3c99f85d9c8a"
      }
     },
     "metadata": {},
     "output_type": "display_data"
    }
   ],
   "source": [
    "test[\"predictions\"] = test.swifter.apply(lambda test_observation: get_topk_pa_species(test_observation[\"district\"], k=15), axis=1)\n",
    "submission = test[[\"surveyId\",\"predictions\"]]\n",
    "\n",
    "submission.to_csv(\"../submissions/submission-pa-district-top15.csv\", index=False)"
   ],
   "metadata": {
    "collapsed": false,
    "ExecuteTime": {
     "end_time": "2024-06-12T13:06:01.952046Z",
     "start_time": "2024-06-12T13:02:17.968029Z"
    }
   },
   "execution_count": 8
  },
  {
   "cell_type": "code",
   "outputs": [
    {
     "data": {
      "text/plain": "Pandas Apply:   0%|          | 0/4716 [00:00<?, ?it/s]",
      "application/vnd.jupyter.widget-view+json": {
       "version_major": 2,
       "version_minor": 0,
       "model_id": "afeb4180f98c4a70a45c52da54c1c083"
      }
     },
     "metadata": {},
     "output_type": "display_data"
    }
   ],
   "source": [
    "test[\"predictions\"] = test.swifter.apply(lambda test_observation: get_topk_pa_species(test_observation[\"district\"], k=20), axis=1)\n",
    "submission = test[[\"surveyId\",\"predictions\"]]\n",
    "\n",
    "submission.to_csv(\"../submissions/submission-pa-district-top20.csv\", index=False)"
   ],
   "metadata": {
    "collapsed": false,
    "ExecuteTime": {
     "end_time": "2024-06-12T13:09:47.337532Z",
     "start_time": "2024-06-12T13:06:01.953863Z"
    }
   },
   "execution_count": 9
  },
  {
   "cell_type": "code",
   "outputs": [],
   "source": [
    "test[\"predictions\"] = test.swifter.apply(lambda test_observation: get_topk_pa_species(test_observation[\"district\"], k=25), axis=1)\n",
    "submission = test[[\"surveyId\",\"predictions\"]]\n",
    "\n",
    "submission.to_csv(\"../submissions/submission-pa-district-top25.csv\", index=False)"
   ],
   "metadata": {
    "collapsed": false
   }
  },
  {
   "cell_type": "code",
   "outputs": [
    {
     "data": {
      "text/plain": "Pandas Apply:   0%|          | 0/4716 [00:00<?, ?it/s]",
      "application/vnd.jupyter.widget-view+json": {
       "version_major": 2,
       "version_minor": 0,
       "model_id": "082447e9c7fd4df18f16cbdea5a91fc6"
      }
     },
     "metadata": {},
     "output_type": "display_data"
    }
   ],
   "source": [
    "test[\"predictions\"] = test.swifter.apply(lambda test_observation: get_topk_pa_species(test_observation[\"district\"], k=30), axis=1)\n",
    "submission = test[[\"surveyId\",\"predictions\"]]\n",
    "\n",
    "submission.to_csv(\"../submissions/submission-pa-district-top30.csv\", index=False)"
   ],
   "metadata": {
    "collapsed": false,
    "ExecuteTime": {
     "end_time": "2024-06-12T13:13:35.518474Z",
     "start_time": "2024-06-12T13:09:47.338447Z"
    }
   },
   "execution_count": 10
  },
  {
   "cell_type": "code",
   "outputs": [
    {
     "data": {
      "text/plain": "Pandas Apply:   0%|          | 0/4716 [00:00<?, ?it/s]",
      "application/vnd.jupyter.widget-view+json": {
       "version_major": 2,
       "version_minor": 0,
       "model_id": "6d4b35bb91754e84a21a5f32b44e628c"
      }
     },
     "metadata": {},
     "output_type": "display_data"
    }
   ],
   "source": [
    "test[\"predictions\"] = test.swifter.apply(lambda test_observation: get_topk_pa_species(test_observation[\"district\"], k=35), axis=1)\n",
    "submission = test[[\"surveyId\",\"predictions\"]]\n",
    "\n",
    "submission.to_csv(\"../submissions/submission-pa-district-top35.csv\", index=False)"
   ],
   "metadata": {
    "collapsed": false,
    "ExecuteTime": {
     "end_time": "2024-06-12T13:32:48.380750Z",
     "start_time": "2024-06-12T13:29:03.744518Z"
    }
   },
   "execution_count": 25
  },
  {
   "cell_type": "code",
   "outputs": [
    {
     "data": {
      "text/plain": "Pandas Apply:   0%|          | 0/4716 [00:00<?, ?it/s]",
      "application/vnd.jupyter.widget-view+json": {
       "version_major": 2,
       "version_minor": 0,
       "model_id": "8a9e55b137aa4ecc823fde354688e8f8"
      }
     },
     "metadata": {},
     "output_type": "display_data"
    }
   ],
   "source": [
    "test[\"predictions\"] = test.swifter.apply(lambda test_observation: get_topk_pa_species(test_observation[\"district\"], k=40), axis=1)\n",
    "submission = test[[\"surveyId\",\"predictions\"]]\n",
    "\n",
    "submission.to_csv(\"../submissions/submission-pa-district-top40.csv\", index=False)"
   ],
   "metadata": {
    "collapsed": false,
    "ExecuteTime": {
     "end_time": "2024-06-12T13:38:27.780842Z",
     "start_time": "2024-06-12T13:34:42.092815Z"
    }
   },
   "execution_count": 31
  },
  {
   "cell_type": "markdown",
   "source": [
    "# Top-k experiment with district & bio-region"
   ],
   "metadata": {
    "collapsed": false
   }
  },
  {
   "cell_type": "code",
   "outputs": [],
   "source": [
    "def get_topk_pa_species(district, region, k=25):\n",
    "    query = list(pa_train.loc[(pa_train.region == region) & (pa_train.district == district), \"speciesId\"].value_counts().nlargest(k).index)\n",
    "    query.sort()\n",
    "    return \" \".join([str(c) for c in query]) if len(query) > 0 else \"0\""
   ],
   "metadata": {
    "collapsed": false,
    "ExecuteTime": {
     "end_time": "2024-06-12T14:17:17.707421Z",
     "start_time": "2024-06-12T14:17:17.696563Z"
    }
   },
   "execution_count": 35
  },
  {
   "cell_type": "code",
   "outputs": [
    {
     "data": {
      "text/plain": "Pandas Apply:   0%|          | 0/4716 [00:00<?, ?it/s]",
      "application/vnd.jupyter.widget-view+json": {
       "version_major": 2,
       "version_minor": 0,
       "model_id": "d952f17bcb9e42728873c3bef9e4e26c"
      }
     },
     "metadata": {},
     "output_type": "display_data"
    }
   ],
   "source": [
    "test[\"predictions\"] = test.swifter.apply(lambda test_observation: get_topk_pa_species(test_observation[\"district\"], test_observation[\"region\"], k=5), axis=1)\n",
    "submission = test[[\"surveyId\",\"predictions\"]]\n",
    "\n",
    "submission.to_csv(\"../submissions/submission-pa-district+region-top5.csv\", index=False)"
   ],
   "metadata": {
    "collapsed": false,
    "ExecuteTime": {
     "end_time": "2024-06-12T14:51:25.463845Z",
     "start_time": "2024-06-12T14:43:36.963471Z"
    }
   },
   "execution_count": 39
  },
  {
   "cell_type": "code",
   "outputs": [
    {
     "data": {
      "text/plain": "Pandas Apply:   0%|          | 0/4716 [00:00<?, ?it/s]",
      "application/vnd.jupyter.widget-view+json": {
       "version_major": 2,
       "version_minor": 0,
       "model_id": "4ba8e7c2260a4fc0882d1182fc2f2d36"
      }
     },
     "metadata": {},
     "output_type": "display_data"
    }
   ],
   "source": [
    "test[\"predictions\"] = test.swifter.apply(lambda test_observation: get_topk_pa_species(test_observation[\"district\"], test_observation[\"region\"], k=10), axis=1)\n",
    "submission = test[[\"surveyId\",\"predictions\"]]\n",
    "\n",
    "submission.to_csv(\"../submissions/submission-pa-district+region-top10.csv\", index=False)"
   ],
   "metadata": {
    "collapsed": false,
    "ExecuteTime": {
     "end_time": "2024-06-12T14:59:13.520340Z",
     "start_time": "2024-06-12T14:51:25.464664Z"
    }
   },
   "execution_count": 40
  },
  {
   "cell_type": "code",
   "outputs": [
    {
     "data": {
      "text/plain": "Pandas Apply:   0%|          | 0/4716 [00:00<?, ?it/s]",
      "application/vnd.jupyter.widget-view+json": {
       "version_major": 2,
       "version_minor": 0,
       "model_id": "a494140047b14b9a8f8bfde63602a70a"
      }
     },
     "metadata": {},
     "output_type": "display_data"
    }
   ],
   "source": [
    "test[\"predictions\"] = test.swifter.apply(lambda test_observation: get_topk_pa_species(test_observation[\"district\"], test_observation[\"region\"], k=15), axis=1)\n",
    "submission = test[[\"surveyId\",\"predictions\"]]\n",
    "\n",
    "submission.to_csv(\"../submissions/submission-pa-district+region-top15.csv\", index=False)"
   ],
   "metadata": {
    "collapsed": false,
    "ExecuteTime": {
     "end_time": "2024-06-12T15:06:57.170791Z",
     "start_time": "2024-06-12T14:59:13.523583Z"
    }
   },
   "execution_count": 41
  },
  {
   "cell_type": "code",
   "outputs": [
    {
     "data": {
      "text/plain": "Pandas Apply:   0%|          | 0/4716 [00:00<?, ?it/s]",
      "application/vnd.jupyter.widget-view+json": {
       "version_major": 2,
       "version_minor": 0,
       "model_id": "4d34f29ce611404f9d51197c6bad6103"
      }
     },
     "metadata": {},
     "output_type": "display_data"
    }
   ],
   "source": [
    "test[\"predictions\"] = test.swifter.apply(lambda test_observation: get_topk_pa_species(test_observation[\"district\"], test_observation[\"region\"], k=20), axis=1)\n",
    "submission = test[[\"surveyId\",\"predictions\"]]\n",
    "\n",
    "submission.to_csv(\"../submissions/submission-pa-district+region-top20.csv\", index=False)"
   ],
   "metadata": {
    "collapsed": false,
    "ExecuteTime": {
     "end_time": "2024-06-12T15:14:47.507584Z",
     "start_time": "2024-06-12T15:06:57.172211Z"
    }
   },
   "execution_count": 42
  },
  {
   "cell_type": "code",
   "outputs": [],
   "source": [
    "test[\"predictions\"] = test.swifter.apply(lambda test_observation: get_topk_pa_species(test_observation[\"district\"], test_observation[\"region\"], k=25), axis=1)\n",
    "submission = test[[\"surveyId\",\"predictions\"]]\n",
    "\n",
    "submission.to_csv(\"../submissions/submission-pa-district+region-top25.csv\", index=False)"
   ],
   "metadata": {
    "collapsed": false,
    "ExecuteTime": {
     "start_time": "2024-06-12T13:34:07.935238Z"
    }
   }
  },
  {
   "cell_type": "code",
   "outputs": [
    {
     "data": {
      "text/plain": "Pandas Apply:   0%|          | 0/4716 [00:00<?, ?it/s]",
      "application/vnd.jupyter.widget-view+json": {
       "version_major": 2,
       "version_minor": 0,
       "model_id": "e0fdd289c8d14117b2663bec4d11c772"
      }
     },
     "metadata": {},
     "output_type": "display_data"
    }
   ],
   "source": [
    "test[\"predictions\"] = test.swifter.apply(lambda test_observation: get_topk_pa_species(test_observation[\"district\"], test_observation[\"region\"], k=30), axis=1)\n",
    "submission = test[[\"surveyId\",\"predictions\"]]\n",
    "\n",
    "submission.to_csv(\"../submissions/submission-pa-district+region-top30.csv\", index=False)"
   ],
   "metadata": {
    "collapsed": false,
    "ExecuteTime": {
     "end_time": "2024-06-12T14:25:10.558333Z",
     "start_time": "2024-06-12T14:17:20.228061Z"
    }
   },
   "execution_count": 36
  },
  {
   "cell_type": "code",
   "outputs": [
    {
     "data": {
      "text/plain": "Pandas Apply:   0%|          | 0/4716 [00:00<?, ?it/s]",
      "application/vnd.jupyter.widget-view+json": {
       "version_major": 2,
       "version_minor": 0,
       "model_id": "897329956c754e4aa9c7c824171e2d6f"
      }
     },
     "metadata": {},
     "output_type": "display_data"
    }
   ],
   "source": [
    "test[\"predictions\"] = test.swifter.apply(lambda test_observation: get_topk_pa_species(test_observation[\"district\"], test_observation[\"region\"], k=35), axis=1)\n",
    "submission = test[[\"surveyId\",\"predictions\"]]\n",
    "\n",
    "submission.to_csv(\"../submissions/submission-pa-district+region-top35.csv\", index=False)"
   ],
   "metadata": {
    "collapsed": false,
    "ExecuteTime": {
     "end_time": "2024-06-12T14:33:01.373237Z",
     "start_time": "2024-06-12T14:25:10.560180Z"
    }
   },
   "execution_count": 37
  },
  {
   "cell_type": "code",
   "outputs": [
    {
     "data": {
      "text/plain": "Pandas Apply:   0%|          | 0/4716 [00:00<?, ?it/s]",
      "application/vnd.jupyter.widget-view+json": {
       "version_major": 2,
       "version_minor": 0,
       "model_id": "642e1574e22346e38e3a40ff516068aa"
      }
     },
     "metadata": {},
     "output_type": "display_data"
    }
   ],
   "source": [
    "test[\"predictions\"] = test.swifter.apply(lambda test_observation: get_topk_pa_species(test_observation[\"district\"], test_observation[\"region\"], k=40), axis=1)\n",
    "submission = test[[\"surveyId\",\"predictions\"]]\n",
    "\n",
    "submission.to_csv(\"../submissions/submission-pa-district+region-top40.csv\", index=False)"
   ],
   "metadata": {
    "collapsed": false,
    "ExecuteTime": {
     "end_time": "2024-06-12T14:43:36.962216Z",
     "start_time": "2024-06-12T14:35:47.944456Z"
    }
   },
   "execution_count": 38
  },
  {
   "cell_type": "code",
   "outputs": [],
   "source": [],
   "metadata": {
    "collapsed": false
   }
  }
 ]
}
