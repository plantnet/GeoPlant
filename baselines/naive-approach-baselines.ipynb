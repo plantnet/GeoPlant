{
 "metadata": {
  "kernelspec": {
   "language": "python",
   "display_name": "Python 3",
   "name": "python3"
  },
  "language_info": {
   "name": "python",
   "version": "3.10.13",
   "mimetype": "text/x-python",
   "codemirror_mode": {
    "name": "ipython",
    "version": 3
   },
   "pygments_lexer": "ipython3",
   "nbconvert_exporter": "python",
   "file_extension": ".py"
  },
  "kaggle": {
   "accelerator": "none",
   "dataSources": [
    {
     "sourceId": 64733,
     "databundleVersionId": 8171035,
     "sourceType": "competition"
    }
   ],
   "dockerImageVersionId": 30684,
   "isInternetEnabled": true,
   "language": "python",
   "sourceType": "notebook",
   "isGpuEnabled": false
  }
 },
 "nbformat_minor": 4,
 "nbformat": 4,
 "cells": [
  {
   "cell_type": "markdown",
   "source": [
    "# Different Naive Approaches to get up to 0.20567.\n",
    "In this notebook we provide 4 additional approaches to achieve relatively high score. All the approaches are based on the provided observation metadata and does not need any training."
   ],
   "metadata": {}
  },
  {
   "cell_type": "markdown",
   "source": [
    "## Loading Metadata\n",
    "First we load all the metadata and import some very basic libraries."
   ],
   "metadata": {}
  },
  {
   "cell_type": "code",
   "source": [
    "import pandas as pd\n",
    "from tqdm import tqdm\n",
    "\n",
    "tqdm.pandas()\n",
    "\n",
    "# Load train and test metadata\n",
    "po_train = pd.read_csv(\"../metadata/PO-metadata-train.csv\", dtype={\"speciesId\":int})\n",
    "pa_train = pd.read_csv(\"../metadata/PA-metadata-train.csv\", dtype={\"speciesId\":int})\n",
    "test = pd.read_csv(\"../metadata/PA-metadata-test.csv\",  dtype={\"speciesId\":int})"
   ],
   "metadata": {
    "execution": {
     "iopub.status.busy": "2024-04-16T09:25:33.818231Z",
     "iopub.execute_input": "2024-04-16T09:25:33.818690Z",
     "iopub.status.idle": "2024-04-16T09:26:02.325432Z",
     "shell.execute_reply.started": "2024-04-16T09:25:33.818645Z",
     "shell.execute_reply": "2024-04-16T09:26:02.324226Z"
    },
    "trusted": true,
    "ExecuteTime": {
     "end_time": "2024-06-12T08:39:07.313725Z",
     "start_time": "2024-06-12T08:38:58.866532Z"
    }
   },
   "execution_count": 1,
   "outputs": []
  },
  {
   "cell_type": "markdown",
   "source": [
    "# 🏃💨 Presence Absence Based Approaches"
   ],
   "metadata": {
    "collapsed": false
   }
  },
  {
   "cell_type": "markdown",
   "source": [
    "# 🏃💨 First Approach: Top-25 species in PA [**0.11725**]"
   ],
   "metadata": {
    "collapsed": false
   }
  },
  {
   "cell_type": "code",
   "source": [
    "test['predictions'] = ' '.join([str(species) for species in pa_train.speciesId.value_counts().nlargest(25).index])\n",
    "\n",
    "submission = test[['surveyId','predictions']]\n",
    "submission.to_csv('../submissions/submission-top25-pa.csv', index=False)\n",
    "submission"
   ],
   "metadata": {
    "execution": {
     "iopub.status.busy": "2024-04-16T09:29:53.330912Z",
     "iopub.execute_input": "2024-04-16T09:29:53.331420Z",
     "iopub.status.idle": "2024-04-16T09:29:53.407750Z",
     "shell.execute_reply.started": "2024-04-16T09:29:53.331372Z",
     "shell.execute_reply": "2024-04-16T09:29:53.406642Z"
    },
    "trusted": true,
    "ExecuteTime": {
     "end_time": "2024-06-12T08:40:25.217306Z",
     "start_time": "2024-06-12T08:40:25.194469Z"
    }
   },
   "execution_count": 2,
   "outputs": [
    {
     "data": {
      "text/plain": "      surveyId                                        predictions\n0          642  540 4397 254 4499 10317 2885 1964 10600 10073 ...\n1         1792  540 4397 254 4499 10317 2885 1964 10600 10073 ...\n2         3256  540 4397 254 4499 10317 2885 1964 10600 10073 ...\n3         3855  540 4397 254 4499 10317 2885 1964 10600 10073 ...\n4         4889  540 4397 254 4499 10317 2885 1964 10600 10073 ...\n...        ...                                                ...\n4711   3915838  540 4397 254 4499 10317 2885 1964 10600 10073 ...\n4712   3916502  540 4397 254 4499 10317 2885 1964 10600 10073 ...\n4713   3917793  540 4397 254 4499 10317 2885 1964 10600 10073 ...\n4714   3918865  540 4397 254 4499 10317 2885 1964 10600 10073 ...\n4715   3919234  540 4397 254 4499 10317 2885 1964 10600 10073 ...\n\n[4716 rows x 2 columns]",
      "text/html": "<div>\n<style scoped>\n    .dataframe tbody tr th:only-of-type {\n        vertical-align: middle;\n    }\n\n    .dataframe tbody tr th {\n        vertical-align: top;\n    }\n\n    .dataframe thead th {\n        text-align: right;\n    }\n</style>\n<table border=\"1\" class=\"dataframe\">\n  <thead>\n    <tr style=\"text-align: right;\">\n      <th></th>\n      <th>surveyId</th>\n      <th>predictions</th>\n    </tr>\n  </thead>\n  <tbody>\n    <tr>\n      <th>0</th>\n      <td>642</td>\n      <td>540 4397 254 4499 10317 2885 1964 10600 10073 ...</td>\n    </tr>\n    <tr>\n      <th>1</th>\n      <td>1792</td>\n      <td>540 4397 254 4499 10317 2885 1964 10600 10073 ...</td>\n    </tr>\n    <tr>\n      <th>2</th>\n      <td>3256</td>\n      <td>540 4397 254 4499 10317 2885 1964 10600 10073 ...</td>\n    </tr>\n    <tr>\n      <th>3</th>\n      <td>3855</td>\n      <td>540 4397 254 4499 10317 2885 1964 10600 10073 ...</td>\n    </tr>\n    <tr>\n      <th>4</th>\n      <td>4889</td>\n      <td>540 4397 254 4499 10317 2885 1964 10600 10073 ...</td>\n    </tr>\n    <tr>\n      <th>...</th>\n      <td>...</td>\n      <td>...</td>\n    </tr>\n    <tr>\n      <th>4711</th>\n      <td>3915838</td>\n      <td>540 4397 254 4499 10317 2885 1964 10600 10073 ...</td>\n    </tr>\n    <tr>\n      <th>4712</th>\n      <td>3916502</td>\n      <td>540 4397 254 4499 10317 2885 1964 10600 10073 ...</td>\n    </tr>\n    <tr>\n      <th>4713</th>\n      <td>3917793</td>\n      <td>540 4397 254 4499 10317 2885 1964 10600 10073 ...</td>\n    </tr>\n    <tr>\n      <th>4714</th>\n      <td>3918865</td>\n      <td>540 4397 254 4499 10317 2885 1964 10600 10073 ...</td>\n    </tr>\n    <tr>\n      <th>4715</th>\n      <td>3919234</td>\n      <td>540 4397 254 4499 10317 2885 1964 10600 10073 ...</td>\n    </tr>\n  </tbody>\n</table>\n<p>4716 rows × 2 columns</p>\n</div>"
     },
     "execution_count": 2,
     "metadata": {},
     "output_type": "execute_result"
    }
   ]
  },
  {
   "cell_type": "markdown",
   "source": [
    "## 🏃💨 Second Approach: Top-25 species per Country (PA) [**0.16127**]"
   ],
   "metadata": {}
  },
  {
   "cell_type": "code",
   "source": [
    "# !pip install -U ipywidgets swifter"
   ],
   "metadata": {
    "execution": {
     "iopub.status.idle": "2024-04-16T09:35:51.337891Z",
     "shell.execute_reply.started": "2024-04-16T09:35:36.387347Z",
     "shell.execute_reply": "2024-04-16T09:35:51.336619Z"
    },
    "trusted": true,
    "ExecuteTime": {
     "end_time": "2024-06-12T09:00:15.714547Z",
     "start_time": "2024-06-12T09:00:15.709059Z"
    }
   },
   "execution_count": 15,
   "outputs": []
  },
  {
   "cell_type": "code",
   "source": [
    "import swifter\n",
    "tqdm.pandas()\n",
    "\n",
    "def get_topk_pa_species(country, k=25):\n",
    "    query = list(pa_train.loc[(pa_train.country == country), \"speciesId\"].value_counts().nlargest(k).index)\n",
    "    query.sort()\n",
    "    return \" \".join([str(c) for c in query]) if len(query) > 0 else \"0\"\n",
    "\n",
    "test[\"predictions\"] = test.swifter.apply(lambda test_observation: get_topk_pa_species(test_observation[\"country\"]), axis=1)\n",
    "submission = test[[\"surveyId\",\"predictions\"]]\n",
    "\n",
    "submission.to_csv(\"../submissions/submission-pa-country-top25.csv\", index=False)\n",
    "submission"
   ],
   "metadata": {
    "execution": {
     "iopub.status.busy": "2024-04-16T09:35:54.458846Z",
     "iopub.execute_input": "2024-04-16T09:35:54.459959Z"
    },
    "trusted": true,
    "ExecuteTime": {
     "end_time": "2024-06-12T08:56:04.985682Z",
     "start_time": "2024-06-12T08:51:33.639129Z"
    }
   },
   "execution_count": 12,
   "outputs": [
    {
     "data": {
      "text/plain": "Pandas Apply:   0%|          | 0/4716 [00:00<?, ?it/s]",
      "application/vnd.jupyter.widget-view+json": {
       "version_major": 2,
       "version_minor": 0,
       "model_id": "4ab76738d3764ca4a2c3c27cb9b7a4df"
      }
     },
     "metadata": {},
     "output_type": "display_data"
    },
    {
     "data": {
      "text/plain": "      surveyId                                        predictions\n0          642  254 540 581 1964 2885 4397 4499 4638 6310 6491...\n1         1792  262 838 1015 1018 1092 1254 1497 3451 3639 374...\n2         3256  146 963 981 1888 2474 4498 4609 4871 5071 5412...\n3         3855  963 1677 1736 2386 2474 2715 3125 3166 4659 54...\n4         4889  254 540 581 1964 2885 4397 4499 4638 6310 6491...\n...        ...                                                ...\n4711   3915838  254 540 1539 2025 2885 3722 4397 4499 5386 607...\n4712   3916502  254 540 1539 2025 2885 3722 4397 4499 5386 607...\n4713   3917793  423 1018 1254 1497 1818 3123 3722 4748 4758 53...\n4714   3918865  254 540 581 1964 2885 4397 4499 4638 6310 6491...\n4715   3919234  423 1018 1254 1497 1818 3123 3722 4748 4758 53...\n\n[4716 rows x 2 columns]",
      "text/html": "<div>\n<style scoped>\n    .dataframe tbody tr th:only-of-type {\n        vertical-align: middle;\n    }\n\n    .dataframe tbody tr th {\n        vertical-align: top;\n    }\n\n    .dataframe thead th {\n        text-align: right;\n    }\n</style>\n<table border=\"1\" class=\"dataframe\">\n  <thead>\n    <tr style=\"text-align: right;\">\n      <th></th>\n      <th>surveyId</th>\n      <th>predictions</th>\n    </tr>\n  </thead>\n  <tbody>\n    <tr>\n      <th>0</th>\n      <td>642</td>\n      <td>254 540 581 1964 2885 4397 4499 4638 6310 6491...</td>\n    </tr>\n    <tr>\n      <th>1</th>\n      <td>1792</td>\n      <td>262 838 1015 1018 1092 1254 1497 3451 3639 374...</td>\n    </tr>\n    <tr>\n      <th>2</th>\n      <td>3256</td>\n      <td>146 963 981 1888 2474 4498 4609 4871 5071 5412...</td>\n    </tr>\n    <tr>\n      <th>3</th>\n      <td>3855</td>\n      <td>963 1677 1736 2386 2474 2715 3125 3166 4659 54...</td>\n    </tr>\n    <tr>\n      <th>4</th>\n      <td>4889</td>\n      <td>254 540 581 1964 2885 4397 4499 4638 6310 6491...</td>\n    </tr>\n    <tr>\n      <th>...</th>\n      <td>...</td>\n      <td>...</td>\n    </tr>\n    <tr>\n      <th>4711</th>\n      <td>3915838</td>\n      <td>254 540 1539 2025 2885 3722 4397 4499 5386 607...</td>\n    </tr>\n    <tr>\n      <th>4712</th>\n      <td>3916502</td>\n      <td>254 540 1539 2025 2885 3722 4397 4499 5386 607...</td>\n    </tr>\n    <tr>\n      <th>4713</th>\n      <td>3917793</td>\n      <td>423 1018 1254 1497 1818 3123 3722 4748 4758 53...</td>\n    </tr>\n    <tr>\n      <th>4714</th>\n      <td>3918865</td>\n      <td>254 540 581 1964 2885 4397 4499 4638 6310 6491...</td>\n    </tr>\n    <tr>\n      <th>4715</th>\n      <td>3919234</td>\n      <td>423 1018 1254 1497 1818 3123 3722 4748 4758 53...</td>\n    </tr>\n  </tbody>\n</table>\n<p>4716 rows × 2 columns</p>\n</div>"
     },
     "execution_count": 12,
     "metadata": {},
     "output_type": "execute_result"
    }
   ]
  },
  {
   "cell_type": "markdown",
   "source": [
    "## 🏃💨💨 Third Approach: Top-25 species per district (PA) [**0.20258**]"
   ],
   "metadata": {}
  },
  {
   "cell_type": "code",
   "source": [
    "import swifter\n",
    "tqdm.pandas()\n",
    "\n",
    "def get_topk_pa_species(district, k=25):\n",
    "    query = list(pa_train.loc[(pa_train.district == district), \"speciesId\"].value_counts().nlargest(k).index)\n",
    "    query.sort()\n",
    "    return \" \".join([str(c) for c in query]) if len(query) > 0 else \"0\"\n",
    "\n",
    "test[\"predictions\"] = test.swifter.apply(lambda test_observation: get_topk_pa_species(test_observation[\"district\"]), axis=1)\n",
    "submission = test[[\"surveyId\",\"predictions\"]]\n",
    "\n",
    "submission.to_csv(\"../submissions/submission-pa-district-top25.csv\", index=False)\n",
    "submission"
   ],
   "metadata": {
    "execution": {
     "iopub.status.busy": "2024-04-16T10:37:56.818779Z",
     "iopub.execute_input": "2024-04-16T10:37:56.819649Z",
     "iopub.status.idle": "2024-04-16T11:00:54.041393Z",
     "shell.execute_reply.started": "2024-04-16T10:37:56.819599Z",
     "shell.execute_reply": "2024-04-16T11:00:54.039999Z"
    },
    "trusted": true,
    "ExecuteTime": {
     "end_time": "2024-06-12T09:00:15.714200Z",
     "start_time": "2024-06-12T08:56:29.093551Z"
    }
   },
   "execution_count": 14,
   "outputs": [
    {
     "data": {
      "text/plain": "Pandas Apply:   0%|          | 0/4716 [00:00<?, ?it/s]",
      "application/vnd.jupyter.widget-view+json": {
       "version_major": 2,
       "version_minor": 0,
       "model_id": "29e635f3e914410f95423c69d18fa1b3"
      }
     },
     "metadata": {},
     "output_type": "display_data"
    },
    {
     "data": {
      "text/plain": "      surveyId                                        predictions\n0          642  254 340 540 581 1964 2885 4397 4499 4638 6310 ...\n1         1792                                                  0\n2         3256                                                  0\n3         3855  53 423 963 1162 2184 2474 2799 4109 4112 4734 ...\n4         4889  254 540 581 843 958 963 1910 1964 2025 2142 28...\n...        ...                                                ...\n4711   3915838  254 540 581 1170 2025 2885 3361 4483 4492 4499...\n4712   3916502  340 540 1545 1716 2025 2761 2885 2922 3226 385...\n4713   3917793  1092 1139 1254 1851 2747 3043 5146 5412 6208 6...\n4714   3918865  53 254 791 843 963 1964 2025 2823 3294 5114 51...\n4715   3919234  392 1092 1139 1254 2747 3043 3470 5412 5895 67...\n\n[4716 rows x 2 columns]",
      "text/html": "<div>\n<style scoped>\n    .dataframe tbody tr th:only-of-type {\n        vertical-align: middle;\n    }\n\n    .dataframe tbody tr th {\n        vertical-align: top;\n    }\n\n    .dataframe thead th {\n        text-align: right;\n    }\n</style>\n<table border=\"1\" class=\"dataframe\">\n  <thead>\n    <tr style=\"text-align: right;\">\n      <th></th>\n      <th>surveyId</th>\n      <th>predictions</th>\n    </tr>\n  </thead>\n  <tbody>\n    <tr>\n      <th>0</th>\n      <td>642</td>\n      <td>254 340 540 581 1964 2885 4397 4499 4638 6310 ...</td>\n    </tr>\n    <tr>\n      <th>1</th>\n      <td>1792</td>\n      <td>0</td>\n    </tr>\n    <tr>\n      <th>2</th>\n      <td>3256</td>\n      <td>0</td>\n    </tr>\n    <tr>\n      <th>3</th>\n      <td>3855</td>\n      <td>53 423 963 1162 2184 2474 2799 4109 4112 4734 ...</td>\n    </tr>\n    <tr>\n      <th>4</th>\n      <td>4889</td>\n      <td>254 540 581 843 958 963 1910 1964 2025 2142 28...</td>\n    </tr>\n    <tr>\n      <th>...</th>\n      <td>...</td>\n      <td>...</td>\n    </tr>\n    <tr>\n      <th>4711</th>\n      <td>3915838</td>\n      <td>254 540 581 1170 2025 2885 3361 4483 4492 4499...</td>\n    </tr>\n    <tr>\n      <th>4712</th>\n      <td>3916502</td>\n      <td>340 540 1545 1716 2025 2761 2885 2922 3226 385...</td>\n    </tr>\n    <tr>\n      <th>4713</th>\n      <td>3917793</td>\n      <td>1092 1139 1254 1851 2747 3043 5146 5412 6208 6...</td>\n    </tr>\n    <tr>\n      <th>4714</th>\n      <td>3918865</td>\n      <td>53 254 791 843 963 1964 2025 2823 3294 5114 51...</td>\n    </tr>\n    <tr>\n      <th>4715</th>\n      <td>3919234</td>\n      <td>392 1092 1139 1254 2747 3043 3470 5412 5895 67...</td>\n    </tr>\n  </tbody>\n</table>\n<p>4716 rows × 2 columns</p>\n</div>"
     },
     "execution_count": 14,
     "metadata": {},
     "output_type": "execute_result"
    }
   ]
  },
  {
   "cell_type": "markdown",
   "source": [
    "## 🏆 Fourth Approach: Top-25 species per district & biogeographical zones (PA) [**0.20515**]"
   ],
   "metadata": {}
  },
  {
   "cell_type": "code",
   "source": [
    "def get_topk_pa_species(district, region, k=25):\n",
    "    query = list(pa_train.loc[(pa_train.region == region) & (pa_train.district == district), \"speciesId\"].value_counts().nlargest(k).index)\n",
    "    query.sort()\n",
    "    return \" \".join([str(c) for c in query]) if len(query) > 0 else \"0\"\n",
    "\n",
    "test[\"predictions\"] = test.swifter.apply(lambda test_observation: get_topk_pa_species(test_observation[\"district\"], test_observation[\"region\"]), axis=1)\n",
    "submission = test[[\"surveyId\",\"predictions\"]]\n",
    "\n",
    "submission.to_csv(\"../submissions/submission-pa-district+region.csv\", index=False)\n",
    "submission"
   ],
   "metadata": {
    "execution": {
     "iopub.status.busy": "2024-04-16T11:00:54.043672Z",
     "iopub.execute_input": "2024-04-16T11:00:54.044079Z"
    },
    "trusted": true,
    "ExecuteTime": {
     "end_time": "2024-06-12T09:08:48.202280Z",
     "start_time": "2024-06-12T09:00:57.804681Z"
    }
   },
   "execution_count": 16,
   "outputs": [
    {
     "data": {
      "text/plain": "Pandas Apply:   0%|          | 0/4716 [00:00<?, ?it/s]",
      "application/vnd.jupyter.widget-view+json": {
       "version_major": 2,
       "version_minor": 0,
       "model_id": "0badf9bdb172486790b87323cde21429"
      }
     },
     "metadata": {},
     "output_type": "display_data"
    },
    {
     "data": {
      "text/plain": "      surveyId                                        predictions\n0          642  254 340 540 581 1964 2885 4397 4499 4638 6310 ...\n1         1792                                                  0\n2         3256                                                  0\n3         3855  53 423 963 1162 2184 2474 2799 4109 4112 4734 ...\n4         4889  254 540 958 963 976 1910 1964 2025 2142 2398 2...\n...        ...                                                ...\n4711   3915838  254 540 581 1170 2025 2885 3361 4483 4492 4499...\n4712   3916502  340 540 1545 1716 2025 2761 2885 2922 3226 385...\n4713   3917793  963 1092 1139 1254 1851 2747 3043 5412 6208 66...\n4714   3918865  53 254 791 843 963 1964 2025 2823 3294 5114 51...\n4715   3919234  392 1092 1254 2747 3043 3470 5412 6067 6487 67...\n\n[4716 rows x 2 columns]",
      "text/html": "<div>\n<style scoped>\n    .dataframe tbody tr th:only-of-type {\n        vertical-align: middle;\n    }\n\n    .dataframe tbody tr th {\n        vertical-align: top;\n    }\n\n    .dataframe thead th {\n        text-align: right;\n    }\n</style>\n<table border=\"1\" class=\"dataframe\">\n  <thead>\n    <tr style=\"text-align: right;\">\n      <th></th>\n      <th>surveyId</th>\n      <th>predictions</th>\n    </tr>\n  </thead>\n  <tbody>\n    <tr>\n      <th>0</th>\n      <td>642</td>\n      <td>254 340 540 581 1964 2885 4397 4499 4638 6310 ...</td>\n    </tr>\n    <tr>\n      <th>1</th>\n      <td>1792</td>\n      <td>0</td>\n    </tr>\n    <tr>\n      <th>2</th>\n      <td>3256</td>\n      <td>0</td>\n    </tr>\n    <tr>\n      <th>3</th>\n      <td>3855</td>\n      <td>53 423 963 1162 2184 2474 2799 4109 4112 4734 ...</td>\n    </tr>\n    <tr>\n      <th>4</th>\n      <td>4889</td>\n      <td>254 540 958 963 976 1910 1964 2025 2142 2398 2...</td>\n    </tr>\n    <tr>\n      <th>...</th>\n      <td>...</td>\n      <td>...</td>\n    </tr>\n    <tr>\n      <th>4711</th>\n      <td>3915838</td>\n      <td>254 540 581 1170 2025 2885 3361 4483 4492 4499...</td>\n    </tr>\n    <tr>\n      <th>4712</th>\n      <td>3916502</td>\n      <td>340 540 1545 1716 2025 2761 2885 2922 3226 385...</td>\n    </tr>\n    <tr>\n      <th>4713</th>\n      <td>3917793</td>\n      <td>963 1092 1139 1254 1851 2747 3043 5412 6208 66...</td>\n    </tr>\n    <tr>\n      <th>4714</th>\n      <td>3918865</td>\n      <td>53 254 791 843 963 1964 2025 2823 3294 5114 51...</td>\n    </tr>\n    <tr>\n      <th>4715</th>\n      <td>3919234</td>\n      <td>392 1092 1254 2747 3043 3470 5412 6067 6487 67...</td>\n    </tr>\n  </tbody>\n</table>\n<p>4716 rows × 2 columns</p>\n</div>"
     },
     "execution_count": 16,
     "metadata": {},
     "output_type": "execute_result"
    }
   ]
  },
  {
   "cell_type": "markdown",
   "source": [
    "# 🏃💨 Presence Only Based Approaches"
   ],
   "metadata": {
    "collapsed": false
   }
  },
  {
   "cell_type": "markdown",
   "source": [
    "## 🏃💨 Second Approach: Top-25 species in PO [**0.08217**]"
   ],
   "metadata": {
    "collapsed": false
   }
  },
  {
   "cell_type": "code",
   "outputs": [
    {
     "data": {
      "text/plain": "      surveyId                                        predictions\n0          642  1757 2885 10247 3958 10047 8208 9816 2474 540 ...\n1         1792  1757 2885 10247 3958 10047 8208 9816 2474 540 ...\n2         3256  1757 2885 10247 3958 10047 8208 9816 2474 540 ...\n3         3855  1757 2885 10247 3958 10047 8208 9816 2474 540 ...\n4         4889  1757 2885 10247 3958 10047 8208 9816 2474 540 ...\n...        ...                                                ...\n4711   3915838  1757 2885 10247 3958 10047 8208 9816 2474 540 ...\n4712   3916502  1757 2885 10247 3958 10047 8208 9816 2474 540 ...\n4713   3917793  1757 2885 10247 3958 10047 8208 9816 2474 540 ...\n4714   3918865  1757 2885 10247 3958 10047 8208 9816 2474 540 ...\n4715   3919234  1757 2885 10247 3958 10047 8208 9816 2474 540 ...\n\n[4716 rows x 2 columns]",
      "text/html": "<div>\n<style scoped>\n    .dataframe tbody tr th:only-of-type {\n        vertical-align: middle;\n    }\n\n    .dataframe tbody tr th {\n        vertical-align: top;\n    }\n\n    .dataframe thead th {\n        text-align: right;\n    }\n</style>\n<table border=\"1\" class=\"dataframe\">\n  <thead>\n    <tr style=\"text-align: right;\">\n      <th></th>\n      <th>surveyId</th>\n      <th>predictions</th>\n    </tr>\n  </thead>\n  <tbody>\n    <tr>\n      <th>0</th>\n      <td>642</td>\n      <td>1757 2885 10247 3958 10047 8208 9816 2474 540 ...</td>\n    </tr>\n    <tr>\n      <th>1</th>\n      <td>1792</td>\n      <td>1757 2885 10247 3958 10047 8208 9816 2474 540 ...</td>\n    </tr>\n    <tr>\n      <th>2</th>\n      <td>3256</td>\n      <td>1757 2885 10247 3958 10047 8208 9816 2474 540 ...</td>\n    </tr>\n    <tr>\n      <th>3</th>\n      <td>3855</td>\n      <td>1757 2885 10247 3958 10047 8208 9816 2474 540 ...</td>\n    </tr>\n    <tr>\n      <th>4</th>\n      <td>4889</td>\n      <td>1757 2885 10247 3958 10047 8208 9816 2474 540 ...</td>\n    </tr>\n    <tr>\n      <th>...</th>\n      <td>...</td>\n      <td>...</td>\n    </tr>\n    <tr>\n      <th>4711</th>\n      <td>3915838</td>\n      <td>1757 2885 10247 3958 10047 8208 9816 2474 540 ...</td>\n    </tr>\n    <tr>\n      <th>4712</th>\n      <td>3916502</td>\n      <td>1757 2885 10247 3958 10047 8208 9816 2474 540 ...</td>\n    </tr>\n    <tr>\n      <th>4713</th>\n      <td>3917793</td>\n      <td>1757 2885 10247 3958 10047 8208 9816 2474 540 ...</td>\n    </tr>\n    <tr>\n      <th>4714</th>\n      <td>3918865</td>\n      <td>1757 2885 10247 3958 10047 8208 9816 2474 540 ...</td>\n    </tr>\n    <tr>\n      <th>4715</th>\n      <td>3919234</td>\n      <td>1757 2885 10247 3958 10047 8208 9816 2474 540 ...</td>\n    </tr>\n  </tbody>\n</table>\n<p>4716 rows × 2 columns</p>\n</div>"
     },
     "execution_count": 3,
     "metadata": {},
     "output_type": "execute_result"
    }
   ],
   "source": [
    "test['predictions'] = ' '.join([str(species) for species in po_train.speciesId.value_counts().nlargest(25).index])\n",
    "\n",
    "submission = test[['surveyId','predictions']]\n",
    "submission.to_csv('../submissions/submission-top25-po.csv', index=False)\n",
    "submission"
   ],
   "metadata": {
    "collapsed": false,
    "ExecuteTime": {
     "end_time": "2024-06-12T08:40:26.846755Z",
     "start_time": "2024-06-12T08:40:26.832187Z"
    }
   },
   "execution_count": 3
  },
  {
   "cell_type": "markdown",
   "source": [
    "## 🏆 Fourth Approach: Top-25 species per district & biogeographical zones (PO) [**xxxxx**]"
   ],
   "metadata": {
    "collapsed": false
   }
  },
  {
   "cell_type": "code",
   "outputs": [
    {
     "data": {
      "text/plain": "Pandas Apply:   0%|          | 0/4716 [00:00<?, ?it/s]",
      "application/vnd.jupyter.widget-view+json": {
       "version_major": 2,
       "version_minor": 0,
       "model_id": "5f0ad562e8b6451a87699c0264be10b5"
      }
     },
     "metadata": {},
     "output_type": "display_data"
    },
    {
     "data": {
      "text/plain": "      surveyId                                        predictions\n0          642  254 340 540 623 1288 2101 2676 2955 3123 4397 ...\n1         1792  320 535 846 1254 1869 1920 2348 2499 2723 4233...\n2         3256                                                  0\n3         3855  460 617 944 2644 2782 3510 4105 4216 4371 4774...\n4         4889  300 581 976 1264 1951 1964 2262 3979 4447 4483...\n...        ...                                                ...\n4711   3915838  296 442 1254 1472 2027 2788 3449 3583 3864 478...\n4712   3916502  121 296 1215 1472 1531 1716 2027 2173 3583 385...\n4713   3917793  282 569 1139 1597 2747 2776 3043 3470 3594 417...\n4714   3918865  53 300 1611 1893 1951 2823 3227 4735 4996 5114...\n4715   3919234  282 569 1139 2398 3510 3594 4175 4202 4998 502...\n\n[4716 rows x 2 columns]",
      "text/html": "<div>\n<style scoped>\n    .dataframe tbody tr th:only-of-type {\n        vertical-align: middle;\n    }\n\n    .dataframe tbody tr th {\n        vertical-align: top;\n    }\n\n    .dataframe thead th {\n        text-align: right;\n    }\n</style>\n<table border=\"1\" class=\"dataframe\">\n  <thead>\n    <tr style=\"text-align: right;\">\n      <th></th>\n      <th>surveyId</th>\n      <th>predictions</th>\n    </tr>\n  </thead>\n  <tbody>\n    <tr>\n      <th>0</th>\n      <td>642</td>\n      <td>254 340 540 623 1288 2101 2676 2955 3123 4397 ...</td>\n    </tr>\n    <tr>\n      <th>1</th>\n      <td>1792</td>\n      <td>320 535 846 1254 1869 1920 2348 2499 2723 4233...</td>\n    </tr>\n    <tr>\n      <th>2</th>\n      <td>3256</td>\n      <td>0</td>\n    </tr>\n    <tr>\n      <th>3</th>\n      <td>3855</td>\n      <td>460 617 944 2644 2782 3510 4105 4216 4371 4774...</td>\n    </tr>\n    <tr>\n      <th>4</th>\n      <td>4889</td>\n      <td>300 581 976 1264 1951 1964 2262 3979 4447 4483...</td>\n    </tr>\n    <tr>\n      <th>...</th>\n      <td>...</td>\n      <td>...</td>\n    </tr>\n    <tr>\n      <th>4711</th>\n      <td>3915838</td>\n      <td>296 442 1254 1472 2027 2788 3449 3583 3864 478...</td>\n    </tr>\n    <tr>\n      <th>4712</th>\n      <td>3916502</td>\n      <td>121 296 1215 1472 1531 1716 2027 2173 3583 385...</td>\n    </tr>\n    <tr>\n      <th>4713</th>\n      <td>3917793</td>\n      <td>282 569 1139 1597 2747 2776 3043 3470 3594 417...</td>\n    </tr>\n    <tr>\n      <th>4714</th>\n      <td>3918865</td>\n      <td>53 300 1611 1893 1951 2823 3227 4735 4996 5114...</td>\n    </tr>\n    <tr>\n      <th>4715</th>\n      <td>3919234</td>\n      <td>282 569 1139 2398 3510 3594 4175 4202 4998 502...</td>\n    </tr>\n  </tbody>\n</table>\n<p>4716 rows × 2 columns</p>\n</div>"
     },
     "execution_count": 21,
     "metadata": {},
     "output_type": "execute_result"
    }
   ],
   "source": [
    "def get_topk_pa_species(district, region, k=25):\n",
    "    query = list(po_train.loc[(po_train.region == region) & (po_train.district == district), \"speciesId\"].value_counts().nlargest(k).index)\n",
    "    query.sort()\n",
    "    return \" \".join([str(c) for c in query]) if len(query) > 0 else \"0\"\n",
    "\n",
    "test[\"predictions\"] = test.swifter.apply(lambda test_observation: get_topk_pa_species(test_observation[\"district\"], test_observation[\"region\"]), axis=1)\n",
    "submission = test[[\"surveyId\",\"predictions\"]]\n",
    "\n",
    "submission.to_csv(\"../submissions/submission-po-district+region.csv\", index=False)\n",
    "submission"
   ],
   "metadata": {
    "collapsed": false,
    "ExecuteTime": {
     "end_time": "2024-06-12T10:16:00.788212Z",
     "start_time": "2024-06-12T09:43:11.625587Z"
    }
   },
   "execution_count": 21
  },
  {
   "cell_type": "code",
   "outputs": [
    {
     "data": {
      "text/plain": "Pandas Apply:   0%|          | 0/4716 [00:00<?, ?it/s]",
      "application/vnd.jupyter.widget-view+json": {
       "version_major": 2,
       "version_minor": 0,
       "model_id": "bb041f34ee2a4f148ee61233a46ec91d"
      }
     },
     "metadata": {},
     "output_type": "display_data"
    },
    {
     "data": {
      "text/plain": "      surveyId                                        predictions\n0          642  340 581 1288 2664 2847 3861 4447 5398 5928 627...\n1         1792  460 569 944 2322 2644 2782 2837 3156 4105 4216...\n2         3256  460 569 944 2322 2644 2782 2837 3156 4105 4216...\n3         3855  460 569 944 2322 2644 2782 2837 3156 4105 4216...\n4         4889  340 581 1288 2664 2847 3861 4447 5398 5928 627...\n...        ...                                                ...\n4711   3915838  1757 1939 2027 2126 2474 2543 2707 2752 2885 3...\n4712   3916502  1757 1939 2027 2126 2474 2543 2707 2752 2885 3...\n4713   3917793  460 569 944 2322 2644 2782 2837 3156 4105 4216...\n4714   3918865  340 581 1288 2664 2847 3861 4447 5398 5928 627...\n4715   3919234  460 569 944 2322 2644 2782 2837 3156 4105 4216...\n\n[4716 rows x 2 columns]",
      "text/html": "<div>\n<style scoped>\n    .dataframe tbody tr th:only-of-type {\n        vertical-align: middle;\n    }\n\n    .dataframe tbody tr th {\n        vertical-align: top;\n    }\n\n    .dataframe thead th {\n        text-align: right;\n    }\n</style>\n<table border=\"1\" class=\"dataframe\">\n  <thead>\n    <tr style=\"text-align: right;\">\n      <th></th>\n      <th>surveyId</th>\n      <th>predictions</th>\n    </tr>\n  </thead>\n  <tbody>\n    <tr>\n      <th>0</th>\n      <td>642</td>\n      <td>340 581 1288 2664 2847 3861 4447 5398 5928 627...</td>\n    </tr>\n    <tr>\n      <th>1</th>\n      <td>1792</td>\n      <td>460 569 944 2322 2644 2782 2837 3156 4105 4216...</td>\n    </tr>\n    <tr>\n      <th>2</th>\n      <td>3256</td>\n      <td>460 569 944 2322 2644 2782 2837 3156 4105 4216...</td>\n    </tr>\n    <tr>\n      <th>3</th>\n      <td>3855</td>\n      <td>460 569 944 2322 2644 2782 2837 3156 4105 4216...</td>\n    </tr>\n    <tr>\n      <th>4</th>\n      <td>4889</td>\n      <td>340 581 1288 2664 2847 3861 4447 5398 5928 627...</td>\n    </tr>\n    <tr>\n      <th>...</th>\n      <td>...</td>\n      <td>...</td>\n    </tr>\n    <tr>\n      <th>4711</th>\n      <td>3915838</td>\n      <td>1757 1939 2027 2126 2474 2543 2707 2752 2885 3...</td>\n    </tr>\n    <tr>\n      <th>4712</th>\n      <td>3916502</td>\n      <td>1757 1939 2027 2126 2474 2543 2707 2752 2885 3...</td>\n    </tr>\n    <tr>\n      <th>4713</th>\n      <td>3917793</td>\n      <td>460 569 944 2322 2644 2782 2837 3156 4105 4216...</td>\n    </tr>\n    <tr>\n      <th>4714</th>\n      <td>3918865</td>\n      <td>340 581 1288 2664 2847 3861 4447 5398 5928 627...</td>\n    </tr>\n    <tr>\n      <th>4715</th>\n      <td>3919234</td>\n      <td>460 569 944 2322 2644 2782 2837 3156 4105 4216...</td>\n    </tr>\n  </tbody>\n</table>\n<p>4716 rows × 2 columns</p>\n</div>"
     },
     "execution_count": 26,
     "metadata": {},
     "output_type": "execute_result"
    }
   ],
   "source": [
    "import swifter\n",
    "tqdm.pandas()\n",
    "\n",
    "def get_topk_pa_species(region, k=25):\n",
    "    query = list(po_train.loc[(po_train.region == region), \"speciesId\"].value_counts().nlargest(k).index)\n",
    "    query.sort()\n",
    "    return \" \".join([str(c) for c in query]) if len(query) > 0 else \"0\"\n",
    "\n",
    "test[\"predictions\"] = test.swifter.apply(lambda test_observation: get_topk_pa_species(test_observation[\"region\"]), axis=1)\n",
    "submission = test[[\"surveyId\",\"predictions\"]]\n",
    "\n",
    "submission.to_csv(\"../submissions/submission-po-region-top25.csv\", index=False)\n",
    "submission"
   ],
   "metadata": {
    "collapsed": false,
    "ExecuteTime": {
     "end_time": "2024-06-12T10:39:10.365703Z",
     "start_time": "2024-06-12T10:23:11.429767Z"
    }
   },
   "execution_count": 26
  },
  {
   "cell_type": "code",
   "outputs": [],
   "source": [],
   "metadata": {
    "collapsed": false
   }
  }
 ]
}
